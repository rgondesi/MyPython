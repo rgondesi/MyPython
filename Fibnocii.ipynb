{
 "cells": [
  {
   "cell_type": "code",
   "execution_count": 17,
   "metadata": {},
   "outputs": [
    {
     "name": "stdout",
     "output_type": "stream",
     "text": [
      "Enter an integer : 0\n",
      "[]\n"
     ]
    }
   ],
   "source": [
    "num1 = int(eval(input(\"Enter an integer : \")))\n",
    "\n",
    "def getFibnocii(int_number):\n",
    "    a = []\n",
    "    for i in range(int_number):\n",
    "        if i == 0:\n",
    "            a.append(i)\n",
    "        if i == 1:\n",
    "            a.append(i)\n",
    "        if i > 1:\n",
    "            a.append(a[i-1] + a[i-2])\n",
    "    return a\n",
    "\n",
    "print(getFibnocii(num1))\n",
    "\n",
    "\n",
    "\n"
   ]
  }
 ],
 "metadata": {
  "kernelspec": {
   "display_name": "Python 3",
   "language": "python",
   "name": "python3"
  },
  "language_info": {
   "codemirror_mode": {
    "name": "ipython",
    "version": 3
   },
   "file_extension": ".py",
   "mimetype": "text/x-python",
   "name": "python",
   "nbconvert_exporter": "python",
   "pygments_lexer": "ipython3",
   "version": "3.7.3"
  }
 },
 "nbformat": 4,
 "nbformat_minor": 2
}
