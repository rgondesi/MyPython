{
 "cells": [
  {
   "cell_type": "code",
   "execution_count": null,
   "metadata": {},
   "outputs": [],
   "source": [
    "def disemvowel(string):\n",
    "    newString = \"\"\n",
    "    vowelString = 'aeiouAEIOU'\n",
    "    for item in string:\n",
    "            if item not in vowelString:\n",
    "                newString = newString + item\n",
    "    \n",
    "    return newString\n",
    "\n",
    "print(disemvowel(\"This website is for losers LOL!\"))"
   ]
  },
  {
   "cell_type": "code",
   "execution_count": null,
   "metadata": {},
   "outputs": [],
   "source": [
    "def to_jaden_case(string):\n",
    "    newString = \"\"\n",
    "    String2 = \"\"\n",
    "    strList = string.split(\" \")\n",
    "    for item in strList:\n",
    "        String2 = item + \" \"\n",
    "        newString = newString + String2[0].upper() + String2[1:]\n",
    "        #print(item)\n",
    "    return newString.strip()\n",
    "\n",
    "print(to_jaden_case(\"How can mirrors be real if our eyes aren't real\"))\n",
    "\n",
    "\n",
    "#\"How Can Mirrors Be Real If Our Eyes Aren'T Real\" should equal \"How Can Mirrors Be Real If Our Eyes Aren't Real\"\n"
   ]
  },
  {
   "cell_type": "code",
   "execution_count": null,
   "metadata": {},
   "outputs": [],
   "source": [
    "def to_jaden_case(string):\n",
    "    l = list(string.lower)\n",
    "    st = \"\"\n",
    "\n",
    "    for c in l:\n",
    "        if c-1 == c.isspace():\n",
    "            st += (c.upper())\n",
    "        else:\n",
    "            st += c\n",
    "    return st;\n",
    "\n",
    "\n",
    "print(to_jaden_case(\"How can mirrors be real if our eyes aren't real\"))"
   ]
  },
  {
   "cell_type": "code",
   "execution_count": 2,
   "metadata": {},
   "outputs": [
    {
     "name": "stdout",
     "output_type": "stream",
     "text": [
      "<function to_jaden_case.<locals>.<lambda> at 0x00000167801340D0>\n"
     ]
    }
   ],
   "source": [
    "def to_jaden_case(s):\n",
    "    toJadenCase = lambda s: ' '.join(map(str.capitalize,s.split()))\n",
    "    return toJadenCase\n",
    "\n",
    "\n",
    "print(to_jaden_case(\"How can mirrors be real if our eyes aren't real\"))"
   ]
  },
  {
   "cell_type": "code",
   "execution_count": 10,
   "metadata": {},
   "outputs": [
    {
     "name": "stdout",
     "output_type": "stream",
     "text": [
      "[1, 4, 9]\n"
     ]
    }
   ],
   "source": [
    "ls = [1,2,3]\n",
    "\n",
    "ls2 = []\n",
    "\n",
    "map_obj = map( lambda x: x * x, ls )\n",
    "\n",
    "print(list(map_obj))"
   ]
  },
  {
   "cell_type": "code",
   "execution_count": 20,
   "metadata": {},
   "outputs": [
    {
     "name": "stdout",
     "output_type": "stream",
     "text": [
      "False\n"
     ]
    }
   ],
   "source": [
    "def is_square(n):    \n",
    "\tif n == 0:\n",
    "\t\treturn True\n",
    "    \n",
    "\ti = 1\n",
    "\n",
    "\tfor i in range(n):\n",
    "\t\tif i * i == n:\n",
    "\t\t\treturn True\n",
    "            \n",
    "\treturn False\n",
    "\n",
    "\n",
    "\n",
    "print(is_square(79))"
   ]
  },
  {
   "cell_type": "code",
   "execution_count": 8,
   "metadata": {},
   "outputs": [
    {
     "name": "stdout",
     "output_type": "stream",
     "text": [
      "[2, 4, 6, 8]\n"
     ]
    }
   ],
   "source": [
    "numbers = (1, 2, 3, 4) \n",
    "result = map(lambda x: x + x, numbers) \n",
    "print(list(result)) "
   ]
  }
 ],
 "metadata": {
  "kernelspec": {
   "display_name": "Python 3",
   "language": "python",
   "name": "python3"
  },
  "language_info": {
   "codemirror_mode": {
    "name": "ipython",
    "version": 3
   },
   "file_extension": ".py",
   "mimetype": "text/x-python",
   "name": "python",
   "nbconvert_exporter": "python",
   "pygments_lexer": "ipython3",
   "version": "3.7.3"
  }
 },
 "nbformat": 4,
 "nbformat_minor": 2
}
