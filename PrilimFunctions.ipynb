{
 "cells": [
  {
   "cell_type": "code",
   "execution_count": null,
   "metadata": {},
   "outputs": [],
   "source": [
    "def isPrimeNumber(num1):\n",
    "    \n",
    "    primeNumber = False\n",
    "    inpType = type(num1)\n",
    "    inpTypeStr = str(inpType)\n",
    "    if 'int' not in inpTypeStr:\n",
    "        print(\"Please enter a valid integer\")\n",
    "    elif num1 == 1:\n",
    "        primeNumber = True\n",
    "    else:\n",
    "        for i in range(num1):\n",
    "            if num1 % 2 == 0:\n",
    "                primeNumber = False\n",
    "                break\n",
    "            else:\n",
    "                primeNumber = True\n",
    "    return primeNumber\n",
    "               \n",
    "                \n",
    "inpNumber = eval(input(\"Enter a number: \"))\n",
    "print(\"The number you have entered is [\" + str(inpNumber) + \"]\" )\n",
    "\n",
    "if isPrimeNumber(inpNumber):\n",
    "    print(\"Your number is a prime number\")\n",
    "else:\n",
    "    print(\"Your number is NOT a prime number\")\n",
    "\n"
   ]
  },
  {
   "cell_type": "code",
   "execution_count": null,
   "metadata": {},
   "outputs": [],
   "source": [
    "print(\"Hello\")\n",
    "a = [20, 310, 89]\n",
    "b = [num for num in a if num%2 == 0]\n",
    "print(b)\n",
    "    \n"
   ]
  }
 ],
 "metadata": {
  "kernelspec": {
   "display_name": "Python 3",
   "language": "python",
   "name": "python3"
  },
  "language_info": {
   "codemirror_mode": {
    "name": "ipython",
    "version": 3
   },
   "file_extension": ".py",
   "mimetype": "text/x-python",
   "name": "python",
   "nbconvert_exporter": "python",
   "pygments_lexer": "ipython3",
   "version": "3.7.3"
  }
 },
 "nbformat": 4,
 "nbformat_minor": 2
}
