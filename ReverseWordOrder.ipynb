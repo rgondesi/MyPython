{
 "cells": [
  {
   "cell_type": "code",
   "execution_count": 23,
   "metadata": {},
   "outputs": [
    {
     "name": "stdout",
     "output_type": "stream",
     "text": [
      "you are how Brother Hello \n"
     ]
    }
   ],
   "source": [
    "myString = \"Hello Brother how are you\"\n",
    "newString = \"\"\n",
    "listOfWords = []\n",
    "listOfWords = myString.split(\" \")\n",
    "revListOfWords = []\n",
    "for i in range(1, len(listOfWords)+ 1):\n",
    "    revListOfWords.append(listOfWords[len(listOfWords) - i])\n",
    "#revListOfWords = [item for item in range(len(listOfWords)) ]\n",
    "\n",
    "for item in revListOfWords:\n",
    "    newString += item + \" \"\n",
    "\n",
    "print(newString)"
   ]
  },
  {
   "cell_type": "code",
   "execution_count": null,
   "metadata": {},
   "outputs": [],
   "source": [
    "myString = \"Hello Brother how are you\"\n",
    "newString = \"\"\n",
    "listOfWords = []\n",
    "listOfWords = myString.split(\" \")\n",
    "revListOfWords = []\n",
    "for i in range(1, len(listOfWords)+ 1):\n",
    "    revListOfWords.append(listOfWords[len(listOfWords) - i])\n",
    "#revListOfWords = [item for item in range(len(listOfWords)) ]\n",
    "\n",
    "for item in revListOfWords:\n",
    "    newString += item + \" \"\n",
    "\n",
    "print(newString)"
   ]
  }
 ],
 "metadata": {
  "kernelspec": {
   "display_name": "Python 3",
   "language": "python",
   "name": "python3"
  },
  "language_info": {
   "codemirror_mode": {
    "name": "ipython",
    "version": 3
   },
   "file_extension": ".py",
   "mimetype": "text/x-python",
   "name": "python",
   "nbconvert_exporter": "python",
   "pygments_lexer": "ipython3",
   "version": "3.7.3"
  }
 },
 "nbformat": 4,
 "nbformat_minor": 2
}
