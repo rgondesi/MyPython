{
 "cells": [
  {
   "cell_type": "code",
   "execution_count": 19,
   "metadata": {},
   "outputs": [
    {
     "name": "stdout",
     "output_type": "stream",
     "text": [
      "[2, 3, 3, 235]\n"
     ]
    }
   ],
   "source": [
    "NumberList = [2,45 ,3, 235]\n",
    "SortedNumberList = NumberList[::-1]\n",
    "midNumber = int(len(NumberList) / 2)\n",
    "NewNumberList = []\n",
    "i = 0\n",
    "#NewNumberList.append(\"Test1\")\n",
    "##NewNumberList.append(\"Test2\")\n",
    "#print(NewNumberList)\n",
    "#NewNumberList.append(NumberList[0])\n",
    "#print(NewNumberList)\n",
    "newItem = 0\n",
    "while i < len(NumberList):\n",
    "    for item in NumberList:\n",
    "        if item <= NumberList[i] :\n",
    "            newItem =  item\n",
    "            #print(item)\n",
    "    NewNumberList.append(newItem)\n",
    "    i += 1\n",
    "print(NewNumberList)"
   ]
  },
  {
   "cell_type": "code",
   "execution_count": null,
   "metadata": {},
   "outputs": [],
   "source": []
  }
 ],
 "metadata": {
  "kernelspec": {
   "display_name": "Python 3",
   "language": "python",
   "name": "python3"
  },
  "language_info": {
   "codemirror_mode": {
    "name": "ipython",
    "version": 3
   },
   "file_extension": ".py",
   "mimetype": "text/x-python",
   "name": "python",
   "nbconvert_exporter": "python",
   "pygments_lexer": "ipython3",
   "version": "3.7.3"
  }
 },
 "nbformat": 4,
 "nbformat_minor": 2
}
