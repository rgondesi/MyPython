{
 "cells": [
  {
   "cell_type": "code",
   "execution_count": 1,
   "metadata": {},
   "outputs": [
    {
     "name": "stdout",
     "output_type": "stream",
     "text": [
      "[]\n"
     ]
    }
   ],
   "source": [
    "def friend(x):\n",
    "    #Code\n",
    "    setX = set(x)\n",
    "    newList = []\n",
    "    for item in setX:\n",
    "        if len(item) == 4:\n",
    "            newList.append(item)\n",
    "    return newList\n",
    "    \n",
    "ls = []\n",
    "print(friend(ls))"
   ]
  },
  {
   "cell_type": "code",
   "execution_count": 10,
   "metadata": {},
   "outputs": [
    {
     "ename": "SyntaxError",
     "evalue": "invalid syntax (<ipython-input-10-97a502735b27>, line 11)",
     "output_type": "error",
     "traceback": [
      "\u001b[1;36m  File \u001b[1;32m\"<ipython-input-10-97a502735b27>\"\u001b[1;36m, line \u001b[1;32m11\u001b[0m\n\u001b[1;33m    j = j + 1\u001b[0m\n\u001b[1;37m    ^\u001b[0m\n\u001b[1;31mSyntaxError\u001b[0m\u001b[1;31m:\u001b[0m invalid syntax\n"
     ]
    }
   ],
   "source": [
    "def accum(s):\n",
    "    # your code\n",
    "    for item in s:\n",
    "        j  = 1\n",
    "        i  = 1\n",
    "        i += 1\n",
    "        for i in range(j):\n",
    "            print((item.Title())\n",
    "           #print((item.Title() + \"-\").strip('-'))\n",
    "        j = j + 1\n",
    "    \n",
    "accum(\"test\")"
   ]
  },
  {
   "cell_type": "code",
   "execution_count": null,
   "metadata": {},
   "outputs": [],
   "source": []
  }
 ],
 "metadata": {
  "kernelspec": {
   "display_name": "Python 3",
   "language": "python",
   "name": "python3"
  },
  "language_info": {
   "codemirror_mode": {
    "name": "ipython",
    "version": 3
   },
   "file_extension": ".py",
   "mimetype": "text/x-python",
   "name": "python",
   "nbconvert_exporter": "python",
   "pygments_lexer": "ipython3",
   "version": "3.7.3"
  }
 },
 "nbformat": 4,
 "nbformat_minor": 2
}
