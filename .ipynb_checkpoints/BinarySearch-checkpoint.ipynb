{
 "cells": [
  {
   "cell_type": "code",
   "execution_count": null,
   "metadata": {},
   "outputs": [],
   "source": [
    "NumberList = [2,45 ,3, 235]\n",
    "SortedNumberList = NumberList[::-1]\n",
    "midNumber = int(len(NumberList) / 2)\n",
    "NewNumberList = []\n",
    "i = 0\n",
    "NewNumberList.append(NumberList[0])\n",
    "while i < len(NumberList)-1:\n",
    "    for item in NumberList:\n",
    "        if NewNumberList[i] <= item:\n",
    "            NewNumberList[i] = item\n",
    "            print(item)\n",
    "    i += 1\n",
    "print(NewNumberList)"
   ]
  }
 ],
 "metadata": {
  "kernelspec": {
   "display_name": "Python 3",
   "language": "python",
   "name": "python3"
  },
  "language_info": {
   "codemirror_mode": {
    "name": "ipython",
    "version": 3
   },
   "file_extension": ".py",
   "mimetype": "text/x-python",
   "name": "python",
   "nbconvert_exporter": "python",
   "pygments_lexer": "ipython3",
   "version": "3.7.3"
  }
 },
 "nbformat": 4,
 "nbformat_minor": 2
}
