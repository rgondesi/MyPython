{
 "cells": [
  {
   "cell_type": "code",
   "execution_count": 20,
   "metadata": {},
   "outputs": [
    {
     "name": "stdout",
     "output_type": "stream",
     "text": [
      "Enter a number:2437.235\n",
      "You have entered an odd Number 2437\n"
     ]
    }
   ],
   "source": [
    "inpNum = int(eval(input(\"Enter a number:\")))\n",
    "if inpNum % 2 != 0:\n",
    "   print(\"You have entered an odd Number \" + str(inpNum))\n",
    "else:\n",
    "   print(\"You have entered an Even Number \" + str(inpNum))"
   ]
  }
 ],
 "metadata": {
  "kernelspec": {
   "display_name": "Python 3",
   "language": "python",
   "name": "python3"
  },
  "language_info": {
   "codemirror_mode": {
    "name": "ipython",
    "version": 3
   },
   "file_extension": ".py",
   "mimetype": "text/x-python",
   "name": "python",
   "nbconvert_exporter": "python",
   "pygments_lexer": "ipython3",
   "version": "3.7.3"
  }
 },
 "nbformat": 4,
 "nbformat_minor": 2
}
