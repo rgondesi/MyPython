{
 "cells": [
  {
   "cell_type": "code",
   "execution_count": null,
   "metadata": {},
   "outputs": [],
   "source": [
    "def is_isogram(str):\n",
    "    if len(str) <= 1:\n",
    "        return True\n",
    "    else:\n",
    "        newStr = str.upper()\n",
    "        i = 0\n",
    "        while i < len(str) -1:\n",
    "            if newStr[i] in newStr[i+1:]:\n",
    "                return True\n",
    "            i += 1\n",
    "        \n",
    "        return False\n",
    "\n",
    "print(is_isogram(\"abc\"))"
   ]
  },
  {
   "cell_type": "code",
   "execution_count": null,
   "metadata": {},
   "outputs": [],
   "source": []
  }
 ],
 "metadata": {
  "kernelspec": {
   "display_name": "Python 3",
   "language": "python",
   "name": "python3"
  },
  "language_info": {
   "codemirror_mode": {
    "name": "ipython",
    "version": 3
   },
   "file_extension": ".py",
   "mimetype": "text/x-python",
   "name": "python",
   "nbconvert_exporter": "python",
   "pygments_lexer": "ipython3",
   "version": "3.7.3"
  }
 },
 "nbformat": 4,
 "nbformat_minor": 2
}
