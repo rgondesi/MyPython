{
 "cells": [
  {
   "cell_type": "code",
   "execution_count": 10,
   "metadata": {},
   "outputs": [
    {
     "name": "stdout",
     "output_type": "stream",
     "text": [
      "[10, 30]\n"
     ]
    }
   ],
   "source": [
    "def getFirstandLastofList(list1):\n",
    "    tmpList = []\n",
    "    tmpList.append(list1[0])\n",
    "    tmpList.append(list1[len(list1) -1])\n",
    "    return tmpList\n",
    "\n",
    "print(getFirstandLastofList([10, 20, 30]))\n",
    "    \n",
    "    \n",
    "    "
   ]
  },
  {
   "cell_type": "code",
   "execution_count": 11,
   "metadata": {},
   "outputs": [
    {
     "name": "stdout",
     "output_type": "stream",
     "text": [
      "[10, 30]\n"
     ]
    }
   ],
   "source": [
    "def getFirstandLastofList(list1):\n",
    "    tmpList = []\n",
    "    tmpList.append(list1[0])\n",
    "    tmpList.append(list1[-1])\n",
    "    return tmpList\n",
    "\n",
    "print(getFirstandLastofList([10, 20, 30]))\n",
    "    \n",
    "    \n",
    "    "
   ]
  }
 ],
 "metadata": {
  "kernelspec": {
   "display_name": "Python 3",
   "language": "python",
   "name": "python3"
  },
  "language_info": {
   "codemirror_mode": {
    "name": "ipython",
    "version": 3
   },
   "file_extension": ".py",
   "mimetype": "text/x-python",
   "name": "python",
   "nbconvert_exporter": "python",
   "pygments_lexer": "ipython3",
   "version": "3.7.3"
  }
 },
 "nbformat": 4,
 "nbformat_minor": 2
}
