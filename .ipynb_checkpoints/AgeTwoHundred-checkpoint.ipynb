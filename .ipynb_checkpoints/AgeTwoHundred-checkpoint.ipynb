{
 "cells": [
  {
   "cell_type": "code",
   "execution_count": null,
   "metadata": {},
   "outputs": [],
   "source": [
    "import datetime\n",
    "name = str(input(\"Enter your name: \" ))\n",
    "age = int(input(\"Enter your age: \"  ))\n",
    "#print(\"Your name is[\" + name + \"] and your age is[\" + age + \"]\" )\n",
    "x = datetime.datetime.now()\n",
    "yearsTo100 = int(x.year) + (100 - age)\n",
    "#print(yearsTo100)\n",
    "x = \"Hello Raveendhar you will be 100 years old in the year[\" + str(yearsTo100)  + \"]\\n\"\n",
    "noOfCopies = int(input(\"Enter the number of copies needed:\"))\n",
    "for i in range(noOfCopies):\n",
    "    print(x)"
   ]
  }
 ],
 "metadata": {
  "kernelspec": {
   "display_name": "Python 3",
   "language": "python",
   "name": "python3"
  },
  "language_info": {
   "codemirror_mode": {
    "name": "ipython",
    "version": 3
   },
   "file_extension": ".py",
   "mimetype": "text/x-python",
   "name": "python",
   "nbconvert_exporter": "python",
   "pygments_lexer": "ipython3",
   "version": "3.7.3"
  }
 },
 "nbformat": 4,
 "nbformat_minor": 2
}
