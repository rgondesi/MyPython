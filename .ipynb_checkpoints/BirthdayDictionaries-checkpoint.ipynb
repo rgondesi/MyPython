{
 "cells": [
  {
   "cell_type": "code",
   "execution_count": null,
   "metadata": {},
   "outputs": [],
   "source": [
    "import glob, os\n",
    "\n",
    "os.chdir('C:\\\\Users\\\\Gondesi\\\\Documents\\\\GitHubPython\\\\MyPython\\\\DataFiles')\n",
    "with open('BirthdayData.txt', 'r') as bdayFile:\n",
    "    fileline = bdayFile.readline()\n",
    "    newdict = {}\n",
    "    while fileline:\n",
    "        fileline\n",
    "        list1 = (fileline.split(','))\n",
    "        newdict[list1[0].rstrip()] = list1[1].rstrip()\n",
    "        list1.clear()\n",
    "        fileline = bdayFile.readline()\n",
    "    \n",
    "    print(\"Hello we have birthday information of the following people, pick the person name:\")\n",
    "    for rec in newdict:\n",
    "        print(rec)\n",
    "    \n",
    "   \"\"\" userinput = input(\"Enter the user name:\")\"\"\"\n",
    "\n",
    "\"\"\"    if userinput in newdict:\n",
    "        pass\n",
    "    else:\n",
    "        print(\"Enter a valid name from the list provided\")\"\"\"\n",
    "    \n",
    "    for item, value in newdict:\n",
    "        print(value)\n",
    "        \n",
    "        \"\"\"if item == userinput:\n",
    "            print(\"The DOB of the user entered is: {} \", format(value))\"\"\"\n",
    "    "
   ]
  },
  {
   "cell_type": "code",
   "execution_count": null,
   "metadata": {},
   "outputs": [],
   "source": []
  }
 ],
 "metadata": {
  "kernelspec": {
   "display_name": "Python 3",
   "language": "python",
   "name": "python3"
  },
  "language_info": {
   "codemirror_mode": {
    "name": "ipython",
    "version": 3
   },
   "file_extension": ".py",
   "mimetype": "text/x-python",
   "name": "python",
   "nbconvert_exporter": "python",
   "pygments_lexer": "ipython3",
   "version": "3.7.3"
  }
 },
 "nbformat": 4,
 "nbformat_minor": 2
}
