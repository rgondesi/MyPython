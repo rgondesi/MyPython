{
 "cells": [
  {
   "cell_type": "code",
   "execution_count": 6,
   "metadata": {},
   "outputs": [
    {
     "name": "stdout",
     "output_type": "stream",
     "text": [
      "('Adama', 100)\n",
      "('Starbuck', 75)\n",
      "('Apollo', 80)\n",
      "('Athena', 85)\n",
      "('Agathon', 90)\n",
      "dict_keys(['Adama', 'Starbuck', 'Apollo', 'Athena', 'Agathon'])\n",
      "dict_values([100, 75, 80, 85, 90])\n",
      "75\n"
     ]
    }
   ],
   "source": [
    "student_scores = {'Adama': 100, 'Starbuck': 75, 'Apollo': 80, 'Athena': 85, 'Agathon': 90}\n",
    "\n",
    "for item in student_scores.items():\n",
    "    print(item)\n",
    "\n",
    "print(student_scores.keys())\n",
    "print(student_scores.values())\n",
    "print(student_scores[\"Starbuck\"])"
   ]
  }
 ],
 "metadata": {
  "kernelspec": {
   "display_name": "Python 3",
   "language": "python",
   "name": "python3"
  },
  "language_info": {
   "codemirror_mode": {
    "name": "ipython",
    "version": 3
   },
   "file_extension": ".py",
   "mimetype": "text/x-python",
   "name": "python",
   "nbconvert_exporter": "python",
   "pygments_lexer": "ipython3",
   "version": "3.7.3"
  }
 },
 "nbformat": 4,
 "nbformat_minor": 2
}
