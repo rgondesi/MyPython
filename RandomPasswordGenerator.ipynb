{
 "cells": [
  {
   "cell_type": "code",
   "execution_count": 25,
   "metadata": {},
   "outputs": [
    {
     "name": "stdout",
     "output_type": "stream",
     "text": [
      "Qjtpyv7588GF%W06\n"
     ]
    }
   ],
   "source": [
    "import random as rd\n",
    "\n",
    "def genRandWord():\n",
    "    str1 = \"\"\n",
    "    for i in range(1, 7):\n",
    "        str1 += chr(rd.randint(97,122))\n",
    "    return str1.title()\n",
    "def genRandNumber():\n",
    "    return rd.randint(5555, 9999)\n",
    "def genRandSpecialChar():\n",
    "    str1 = \"\"\n",
    "    for i in range(1, 7):\n",
    "        str1 += chr(rd.randint(33,96))\n",
    "    return str1\n",
    "def genRandPassword():\n",
    "    return genRandWord() + str(genRandNumber()) + genRandSpecialChar()\n",
    "\n",
    "#print(genRandWord())\n",
    "#print(genRandNumber())\n",
    "#print(genRandSpecialChar())\n",
    "print(genRandPassword())"
   ]
  },
  {
   "cell_type": "code",
   "execution_count": 27,
   "metadata": {},
   "outputs": [
    {
     "name": "stdout",
     "output_type": "stream",
     "text": [
      "#z)Q$c?L\n"
     ]
    }
   ],
   "source": [
    "# generate a password with length \"passlen\" with no duplicate characters in the password\n",
    "\n",
    "import random\n",
    "\n",
    "s = \"abcdefghijklmnopqrstuvwxyz01234567890ABCDEFGHIJKLMNOPQRSTUVWXYZ!@#$%^&*()?\"\n",
    "passlen = 8\n",
    "p =  \"\".join(random.sample(s,passlen ))\n",
    "print(p)"
   ]
  }
 ],
 "metadata": {
  "kernelspec": {
   "display_name": "Python 3",
   "language": "python",
   "name": "python3"
  },
  "language_info": {
   "codemirror_mode": {
    "name": "ipython",
    "version": 3
   },
   "file_extension": ".py",
   "mimetype": "text/x-python",
   "name": "python",
   "nbconvert_exporter": "python",
   "pygments_lexer": "ipython3",
   "version": "3.7.3"
  }
 },
 "nbformat": 4,
 "nbformat_minor": 2
}
