{
 "cells": [
  {
   "cell_type": "code",
   "execution_count": null,
   "metadata": {},
   "outputs": [],
   "source": [
    "num1 = eval(input(\"Enter a number\"))\n",
    "print(\" Number entered is {}\".format(num1))\n",
    "isPrime = False\n",
    "for i in range(2, num1):\n",
    "    if num1 % i == 0:\n",
    "        isPrime = False\n",
    "        break\n",
    "    else:\n",
    "        isPrime = True\n",
    "\n",
    "if isPrime:\n",
    "    print(\"The number is prime\")\n",
    "else:\n",
    "    print(\"The number is NOT prime\")"
   ]
  },
  {
   "cell_type": "code",
   "execution_count": 4,
   "metadata": {},
   "outputs": [
    {
     "name": "stdout",
     "output_type": "stream",
     "text": [
      "[1, 31]\n"
     ]
    }
   ],
   "source": [
    "list1 = [1,2,2,31]\n",
    "list2 = [3,4,6,1, 31]\n",
    "list3 = []\n",
    "for item in list1:\n",
    "    if item in list1:\n",
    "        if item in list2:\n",
    "            if item not in list3:\n",
    "                list3.append(item)\n",
    "\n",
    "print(list3)"
   ]
  },
  {
   "cell_type": "code",
   "execution_count": 17,
   "metadata": {},
   "outputs": [
    {
     "name": "stdout",
     "output_type": "stream",
     "text": [
      "[1, 31]\n"
     ]
    }
   ],
   "source": [
    "list1 = [1,2,2,31]\n",
    "list2 = [3,4,6,1, 31]\n",
    "for item in list1:\n",
    "    if item not in list2:\n",
    "        while item in list1:\n",
    "            list1.remove(item)\n",
    "\n",
    "print(list1)\n"
   ]
  },
  {
   "cell_type": "code",
   "execution_count": 24,
   "metadata": {},
   "outputs": [
    {
     "name": "stdout",
     "output_type": "stream",
     "text": [
      "later\n"
     ]
    }
   ],
   "source": [
    "def test(num1):\n",
    "    if num1 == 1:\n",
    "        print(\"Test\")\n",
    "        return True\n",
    "    else:\n",
    "        pass\n",
    "        #return False\n",
    "    print(\"later\")\n",
    "    \n",
    "test(2)"
   ]
  },
  {
   "cell_type": "code",
   "execution_count": null,
   "metadata": {},
   "outputs": [],
   "source": []
  }
 ],
 "metadata": {
  "kernelspec": {
   "display_name": "Python 3",
   "language": "python",
   "name": "python3"
  },
  "language_info": {
   "codemirror_mode": {
    "name": "ipython",
    "version": 3
   },
   "file_extension": ".py",
   "mimetype": "text/x-python",
   "name": "python",
   "nbconvert_exporter": "python",
   "pygments_lexer": "ipython3",
   "version": "3.7.3"
  }
 },
 "nbformat": 4,
 "nbformat_minor": 2
}
