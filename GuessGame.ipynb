{
 "cells": [
  {
   "cell_type": "code",
   "execution_count": 58,
   "metadata": {},
   "outputs": [
    {
     "name": "stdout",
     "output_type": "stream",
     "text": [
      "Random number is 5\n"
     ]
    }
   ],
   "source": [
    "import random\n",
    "\n",
    "#num = eval(input(\"Enter a number \"))\n",
    "\n",
    "#print(\"The number you have entered is [\" + str(num) + \"]\")\n",
    "\n",
    "rand =  random.randint(1, 9)\n",
    "\n",
    "print(\"Random number is \" + str(rand) ) \n",
    "\n",
    "\n"
   ]
  }
 ],
 "metadata": {
  "kernelspec": {
   "display_name": "Python 3",
   "language": "python",
   "name": "python3"
  },
  "language_info": {
   "codemirror_mode": {
    "name": "ipython",
    "version": 3
   },
   "file_extension": ".py",
   "mimetype": "text/x-python",
   "name": "python",
   "nbconvert_exporter": "python",
   "pygments_lexer": "ipython3",
   "version": "3.7.3"
  }
 },
 "nbformat": 4,
 "nbformat_minor": 2
}
