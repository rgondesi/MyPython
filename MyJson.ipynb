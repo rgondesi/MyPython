{
 "cells": [
  {
   "cell_type": "code",
   "execution_count": 9,
   "metadata": {},
   "outputs": [
    {
     "name": "stdout",
     "output_type": "stream",
     "text": [
      "Raveendhar is my name\n",
      "['Ravi', 'Ravindra'] are my other names\n"
     ]
    }
   ],
   "source": [
    "import json\n",
    "myjson = {\n",
    "          \"name\"  : \"Raveendhar\", \n",
    "          \"phno\"  : \"6183035084\",\n",
    "          \"snams\" : [\"Ravi\", \"Ravindra\" ]\n",
    "         }\n",
    "with open(\"MyJsonFile\", \"w\") as mj:\n",
    "    json.dump(myjson, mj)\n",
    "    \n",
    "with open(\"MyJsonFile\", \"r\") as newmj:\n",
    "    info = json.load(newmj)\n",
    "    print(\"{} is my name\".format(info[\"name\"]))\n",
    "    print(\"{} are my other names\".format(info[\"snams\"]))\n"
   ]
  }
 ],
 "metadata": {
  "kernelspec": {
   "display_name": "Python 3",
   "language": "python",
   "name": "python3"
  },
  "language_info": {
   "codemirror_mode": {
    "name": "ipython",
    "version": 3
   },
   "file_extension": ".py",
   "mimetype": "text/x-python",
   "name": "python",
   "nbconvert_exporter": "python",
   "pygments_lexer": "ipython3",
   "version": "3.7.3"
  }
 },
 "nbformat": 4,
 "nbformat_minor": 2
}
