{
 "cells": [
  {
   "cell_type": "code",
   "execution_count": 12,
   "metadata": {},
   "outputs": [
    {
     "name": "stdout",
     "output_type": "stream",
     "text": [
      "Enter a String:ag\n",
      "String Entered: ag\n",
      "String entered is NOT a palindrome\n"
     ]
    }
   ],
   "source": [
    "str1 = input(\"Enter a String:\")\n",
    "print(\"String Entered: \" + str1)\n",
    "max_len = len(str1)\n",
    "med_len = int(max_len/2)\n",
    "\n",
    "palindrome = False\n",
    "\n",
    "for i in range(med_len):\n",
    "    j = i + 1\n",
    "    j = j * -1\n",
    "    if str1[i] == str1[j]:\n",
    "        palindrome = True           \n",
    "    else:\n",
    "        break\n",
    "\n",
    "if palindrome:\n",
    "    print(\"String entered is a palindrome\")\n",
    "else:\n",
    "    print(\"String entered is NOT a palindrome\")\n",
    "    \n",
    "        "
   ]
  },
  {
   "cell_type": "code",
   "execution_count": null,
   "metadata": {},
   "outputs": [],
   "source": [
    "wrd=input(\"Please enter a word\")\n",
    "wrd=str(wrd)\n",
    "\n",
    "rvs=wrd[::-1]\n",
    "print(rvs)\n",
    "if wrd == rvs:\n",
    "    print(\"This word is a palindrome\")\n",
    "else:\n",
    "    print(\"This word is not a palindrome\")"
   ]
  }
 ],
 "metadata": {
  "kernelspec": {
   "display_name": "Python 3",
   "language": "python",
   "name": "python3"
  },
  "language_info": {
   "codemirror_mode": {
    "name": "ipython",
    "version": 3
   },
   "file_extension": ".py",
   "mimetype": "text/x-python",
   "name": "python",
   "nbconvert_exporter": "python",
   "pygments_lexer": "ipython3",
   "version": "3.7.3"
  }
 },
 "nbformat": 4,
 "nbformat_minor": 2
}
